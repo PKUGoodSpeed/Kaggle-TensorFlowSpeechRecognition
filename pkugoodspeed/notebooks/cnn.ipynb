{
 "cells": [
  {
   "cell_type": "markdown",
   "metadata": {},
   "source": [
    "# CNN model for speech recognition"
   ]
  },
  {
   "cell_type": "markdown",
   "metadata": {},
   "source": [
    "`The idea of this model is simple, we first convert the audio file into matrices, then use convolutional neural network to train the target`\n",
    "\n",
    "[1. Reading data from audio files](#data_io)"
   ]
  },
  {
   "cell_type": "code",
   "execution_count": 10,
   "metadata": {},
   "outputs": [],
   "source": [
    "# input, output and command line tools\n",
    "import os\n",
    "from os.path import isdir, join\n",
    "import pandas as pd\n",
    "\n",
    "#math and data handler\n",
    "import numpy as np\n",
    "import pandas as pd\n",
    "from sklearn.decomposition import PCA\n",
    "\n",
    "# audio file i/o\n",
    "from scipy.fftpack import fft\n",
    "from scipy import signal\n",
    "from scipy.io import wavfile"
   ]
  },
  {
   "cell_type": "code",
   "execution_count": 11,
   "metadata": {},
   "outputs": [
    {
     "data": {
      "text/html": [
       "<script>requirejs.config({paths: { 'plotly': ['https://cdn.plot.ly/plotly-latest.min']},});if(!window.Plotly) {{require(['plotly'],function(plotly) {window.Plotly=plotly;});}}</script>"
      ],
      "text/vnd.plotly.v1+html": [
       "<script>requirejs.config({paths: { 'plotly': ['https://cdn.plot.ly/plotly-latest.min']},});if(!window.Plotly) {{require(['plotly'],function(plotly) {window.Plotly=plotly;});}}</script>"
      ]
     },
     "metadata": {},
     "output_type": "display_data"
    }
   ],
   "source": [
    "#Visualization\n",
    "%matplotlib inline\n",
    "import matplotlib as mpl\n",
    "import matplotlib.pyplot as plt\n",
    "import seaborn as sns\n",
    "from IPython.display import display\n",
    "\n",
    "mpl.rc('font', family = 'serif', size = 17)\n",
    "mpl.rcParams['xtick.major.size'] = 5\n",
    "mpl.rcParams['xtick.minor.size'] = 2\n",
    "mpl.rcParams['ytick.major.size'] = 5\n",
    "mpl.rcParams['ytick.minor.size'] = 2\n",
    "\n",
    "import plotly.offline as py\n",
    "py.init_notebook_mode(connected=True)\n",
    "import plotly.graph_objs as go\n",
    "import plotly.tools as tls"
   ]
  },
  {
   "cell_type": "markdown",
   "metadata": {},
   "source": [
    "### Reading data from audio files\n",
    "<a id=\"data_io\"></a> "
   ]
  },
  {
   "cell_type": "code",
   "execution_count": 12,
   "metadata": {},
   "outputs": [],
   "source": [
    "data_dir = '../data/train/audio'\n",
    "\n",
    "## change the name of `_background_noise_' into 'silence` which is a proper label name\n",
    "if os.path.exists(data_dir + '/' + '_background_noise_'):\n",
    "    os.system('mv {0}/_background_noise_ {1}/silence'.format(data_dir, data_dir))\n",
    "if os.path.exists(data_dir + '/' + 'silence/README.md'):\n",
    "     os.system('rm {0}/silence/README.md'.format(data_dir))"
   ]
  },
  {
   "cell_type": "markdown",
   "metadata": {},
   "source": [
    "##### Reading audio one by one and split them into datasets with different labels\n",
    "There are 31 labels `['house', 'off', 'yes', 'happy', 'zero', 'six', 'silence', 'tree', 'stop', 'four', 'marvin', 'seven', 'cat', 'dog', 'up', 'down', 'one', 'sheila', 'bird', 'on', 'left', 'eight', 'five', 'nine', 'two', 'three', 'go', 'no', 'bed', 'wow', 'right']`, which will be indexed via `0 ~ 30`"
   ]
  },
  {
   "cell_type": "code",
   "execution_count": 13,
   "metadata": {},
   "outputs": [
    {
     "name": "stdout",
     "output_type": "stream",
     "text": [
      "(['house', 'off', 'yes', 'happy', 'zero', 'six', 'silence', 'tree', 'stop', 'four', 'marvin', 'seven', 'cat', 'dog', 'up', 'down', 'one', 'sheila', 'bird', 'on', 'left', 'eight', 'five', 'nine', 'two', 'three', 'go', 'no', 'bed', 'wow', 'right'], 31)\n"
     ]
    }
   ],
   "source": [
    "labels = os.listdir(data_dir)\n",
    "print(labels, len(labels))"
   ]
  },
  {
   "cell_type": "markdown",
   "metadata": {},
   "source": [
    "###### Define a function for reading data from all the folder and all the files in them\n",
    "```return: a pandas DataFrame```"
   ]
  },
  {
   "cell_type": "code",
   "execution_count": 14,
   "metadata": {},
   "outputs": [
    {
     "name": "stdout",
     "output_type": "stream",
     "text": [
      "CPU times: user 4.31 s, sys: 4.98 s, total: 9.29 s\n",
      "Wall time: 3min 11s\n"
     ]
    }
   ],
   "source": [
    "def load_audio_data(path):\n",
    "    '''\n",
    "    path: audio file path\n",
    "    return: pd.DataFrame\n",
    "    '''\n",
    "    raw = {'x': [], 'y': [], 'label':[]}\n",
    "    for i, folder in enumerate(os.listdir(path)):\n",
    "        for filename in os.listdir(path + '/' + folder):\n",
    "            rate, sample = wavfile.read(data_dir + '/' + folder + '/' + filename)\n",
    "            assert(rate == 16000)\n",
    "            raw['x'].append(np.array(sample))\n",
    "            raw['y'].append(i)\n",
    "            raw['label'].append(folder)\n",
    "    return pd.DataFrame(raw)\n",
    "%time raw_df = load_audio_data(data_dir)"
   ]
  },
  {
   "cell_type": "code",
   "execution_count": 15,
   "metadata": {},
   "outputs": [
    {
     "data": {
      "text/html": [
       "<div>\n",
       "<table border=\"1\" class=\"dataframe\">\n",
       "  <thead>\n",
       "    <tr style=\"text-align: right;\">\n",
       "      <th></th>\n",
       "      <th>label</th>\n",
       "      <th>x</th>\n",
       "      <th>y</th>\n",
       "    </tr>\n",
       "  </thead>\n",
       "  <tbody>\n",
       "    <tr>\n",
       "      <th>0</th>\n",
       "      <td>house</td>\n",
       "      <td>[-173, -197, -194, -216, -201, -275, -255, -24...</td>\n",
       "      <td>0</td>\n",
       "    </tr>\n",
       "    <tr>\n",
       "      <th>1</th>\n",
       "      <td>house</td>\n",
       "      <td>[6, -56, -4, 8, -18, 76, 49, 24, 59, 42, 54, 5...</td>\n",
       "      <td>0</td>\n",
       "    </tr>\n",
       "    <tr>\n",
       "      <th>2</th>\n",
       "      <td>house</td>\n",
       "      <td>[10, 10, 17, 19, 27, 19, 4, 11, 10, 17, 16, 17...</td>\n",
       "      <td>0</td>\n",
       "    </tr>\n",
       "    <tr>\n",
       "      <th>3</th>\n",
       "      <td>house</td>\n",
       "      <td>[32, 63, 86, 79, 89, 109, 76, 122, 92, 18, 65,...</td>\n",
       "      <td>0</td>\n",
       "    </tr>\n",
       "    <tr>\n",
       "      <th>4</th>\n",
       "      <td>house</td>\n",
       "      <td>[-83, -62, -93, -71, -16, -3, 1, -43, -6, -96,...</td>\n",
       "      <td>0</td>\n",
       "    </tr>\n",
       "  </tbody>\n",
       "</table>\n",
       "</div>"
      ],
      "text/plain": [
       "   label                                                  x  y\n",
       "0  house  [-173, -197, -194, -216, -201, -275, -255, -24...  0\n",
       "1  house  [6, -56, -4, 8, -18, 76, 49, 24, 59, 42, 54, 5...  0\n",
       "2  house  [10, 10, 17, 19, 27, 19, 4, 11, 10, 17, 16, 17...  0\n",
       "3  house  [32, 63, 86, 79, 89, 109, 76, 122, 92, 18, 65,...  0\n",
       "4  house  [-83, -62, -93, -71, -16, -3, 1, -43, -6, -96,...  0"
      ]
     },
     "metadata": {},
     "output_type": "display_data"
    }
   ],
   "source": [
    "# show the data Frame\n",
    "display(raw_df[:5])"
   ]
  },
  {
   "cell_type": "code",
   "execution_count": 16,
   "metadata": {},
   "outputs": [],
   "source": [
    "from sklearn.utils import shuffle\n",
    "def train_test_split(df, ratio = 0.7):\n",
    "    '''\n",
    "    return train_sets + test_sets + label_map, which maps from y to label name\n",
    "    '''\n",
    "    test_x = []\n",
    "    test_y = []\n",
    "    train_x = []\n",
    "    train_y = []\n",
    "    label_map = {}\n",
    "    for i in set(df.y.tolist()):\n",
    "        tmp_df = df[df.y == i]\n",
    "        label_map[i] = tmp_df.label.tolist()[0]\n",
    "        tmp_df = shuffle(tmp_df)\n",
    "        tmp_n = int(len(tmp_df)*ratio)\n",
    "        train_x += tmp_df.x.tolist()[: tmp_n]\n",
    "        test_x += tmp_df.x.tolist()[tmp_n: ]\n",
    "        train_y += tmp_df.y.tolist()[: tmp_n]\n",
    "        test_y += tmp_df.y.tolist()[tmp_n: ]\n",
    "    return np.array(train_x), np.array(train_y), np.array(test_x), np.array(test_y), label_map"
   ]
  },
  {
   "cell_type": "code",
   "execution_count": null,
   "metadata": {},
   "outputs": [
    {
     "name": "stdout",
     "output_type": "stream",
     "text": [
      "CPU times: user 108 ms, sys: 0 ns, total: 108 ms\n",
      "Wall time: 107 ms\n",
      "(45296,)\n",
      "(45296,)\n",
      "(19431,)\n",
      "(19431,)\n",
      "(<type 'numpy.ndarray'>, (16000,))\n",
      "{0: 'house', 1: 'off', 2: 'yes', 3: 'happy', 4: 'zero', 5: 'six', 6: 'silence', 7: 'tree', 8: 'stop', 9: 'four', 10: 'marvin', 11: 'seven', 12: 'cat', 13: 'dog', 14: 'up', 15: 'down', 16: 'one', 17: 'sheila', 18: 'bird', 19: 'on', 20: 'left', 21: 'eight', 22: 'five', 23: 'nine', 24: 'two', 25: 'three', 26: 'go', 27: 'no', 28: 'bed', 29: 'wow', 30: 'right'}\n"
     ]
    }
   ],
   "source": [
    "# Getting testing and trainning set\n",
    "%time tr_x, tr_y, ts_x, ts_y, idmap = train_test_split(raw_df, ratio=0.7)\n",
    "print(np.shape(tr_x))\n",
    "print(np.shape(tr_y))\n",
    "print(np.shape(ts_x))\n",
    "print(np.shape(ts_y))\n",
    "print(type(tr_x[0]), np.shape(tr_x[0]))\n",
    "print(idmap)"
   ]
  },
  {
   "cell_type": "markdown",
   "metadata": {},
   "source": [
    "##### Using fft for certain time intervals to operate all the data read from audio files"
   ]
  },
  {
   "cell_type": "code",
   "execution_count": null,
   "metadata": {},
   "outputs": [
    {
     "name": "stdout",
     "output_type": "stream",
     "text": [
      "0\n",
      "1000\n",
      "2000\n",
      "3000\n",
      "4000\n",
      "5000\n"
     ]
    }
   ],
   "source": [
    "def fft_convert(samples, rate = 16000, n = 25, m = 16, NR = 256, NC = 128, delta = 1.E-10):\n",
    "    '''\n",
    "    convert input data into a big spectrum matrix\n",
    "    '''\n",
    "    res = []\n",
    "    for i,sam in enumerate(samples):\n",
    "        if(i % 1000 == 0):\n",
    "            print(i)\n",
    "        freq, times, spec = signal.spectrogram(sam, fs=rate, window=('kaiser',10), nperseg=int(n*rate/1000),\n",
    "                                               noverlap=int(m*rate/1000))\n",
    "        p1 = max(0, NR - np.shape(spec)[0])\n",
    "        p2 = max(0, NC - np.shape(spec)[1])\n",
    "        spec = np.pad(spec, [(0,p1), (0, p2)], mode='constant')\n",
    "        spec = spec[:NR, :NC]\n",
    "        res.append(spec)\n",
    "    return np.log(np.array(res) + delta)\n",
    "        \n",
    "    \n",
    "tr_x = tr_x[:10000]\n",
    "ts_x = ts_x[:3000]\n",
    "tr_y = tr_y[:10000]\n",
    "ts_y = ts_y[:3000]\n",
    "\n",
    "%time train_x = fft_convert(tr_x)\n",
    "%time test_x = fft_convert(ts_x)\n",
    "\n",
    "print np.shape(train_x), np.shape(test_x)"
   ]
  },
  {
   "cell_type": "markdown",
   "metadata": {},
   "source": [
    "###### Finally we are going to train models"
   ]
  },
  {
   "cell_type": "code",
   "execution_count": null,
   "metadata": {},
   "outputs": [],
   "source": [
    "from keras.datasets import mnist\n",
    "from keras.models import Sequential\n",
    "from keras.layers import Dense, Dropout, Activation\n",
    "from keras.layers import Flatten, Conv2D, MaxPooling2D\n",
    "from keras.optimizers import SGD, Adam, RMSprop, Adadelta\n",
    "from keras.utils import np_utils, plot_model"
   ]
  },
  {
   "cell_type": "code",
   "execution_count": null,
   "metadata": {},
   "outputs": [],
   "source": [
    "img_r, img_c = np.shape(train_x)[1:]\n",
    "train_x = train_x.reshape(len(train_x), img_r, img_c, 1)\n",
    "test_x = test_x.reshape(len(test_x), img_r, img_c, 1)\n",
    "print np.shape(train_x), np.shape(test_x)"
   ]
  },
  {
   "cell_type": "markdown",
   "metadata": {},
   "source": [
    "##### Convert target"
   ]
  },
  {
   "cell_type": "code",
   "execution_count": null,
   "metadata": {},
   "outputs": [],
   "source": [
    "n_cls = 31\n",
    "train_y = np.zeros((len(tr_y), n_cls))\n",
    "test_y = np.zeros((len(ts_y), n_cls))\n",
    "for i in range(len(tr_y)):\n",
    "    train_y[i][tr_y[i]] = 1\n",
    "for i in range(len(ts_y)):\n",
    "    test_y[i][ts_y[i]] = 1\n",
    "print np.shape(train_y), np.shape(test_y)"
   ]
  },
  {
   "cell_type": "code",
   "execution_count": null,
   "metadata": {},
   "outputs": [],
   "source": [
    "### Construct the model\n",
    "model = Sequential()\n",
    "model.add(MaxPooling2D(pool_size = (2, 2), input_shape = (img_r, img_c, 1)))\n",
    "model.add(Conv2D(32, kernel_size = (5, 5), padding = 'same'))\n",
    "model.add(MaxPooling2D(pool_size = (2, 2)))\n",
    "model.add(Activation('relu'))\n",
    "model.add(Conv2D(64, kernel_size = (5, 5), padding = 'same'))\n",
    "model.add(MaxPooling2D(pool_size = (2, 2)))\n",
    "model.add(Activation('relu'))\n",
    "model.add(Dropout(0.25))\n",
    "model.add(Conv2D(64, kernel_size = (5, 5), padding = 'same'))\n",
    "model.add(MaxPooling2D(pool_size = (2, 2)))\n",
    "model.add(Activation('relu'))\n",
    "model.add(Dropout(0.25))\n",
    "model.add(Conv2D(64, kernel_size = (5, 5), padding = 'same'))\n",
    "model.add(MaxPooling2D(pool_size = (2, 2)))\n",
    "model.add(Activation('relu'))\n",
    "model.add(Dropout(0.25))\n",
    "model.add(Flatten())\n",
    "model.add(Dense(128))\n",
    "model.add(Activation('relu'))\n",
    "model.add(Dropout(0.25))\n",
    "model.add(Dense(n_cls, activation = 'softmax'))\n",
    "model.summary()"
   ]
  },
  {
   "cell_type": "code",
   "execution_count": null,
   "metadata": {},
   "outputs": [],
   "source": [
    "### Compile the model\n",
    "optimizer = SGD()\n",
    "loss = 'categorical_crossentropy'\n",
    "metrics = ['accuracy']\n",
    "model.compile(optimizer=optimizer, loss=loss, metrics=metrics)"
   ]
  },
  {
   "cell_type": "code",
   "execution_count": null,
   "metadata": {},
   "outputs": [],
   "source": [
    "### Train the model\n",
    "res = model.fit(train_x, train_y, batch_size = 128, epochs = 6, verbose = 1, validation_data = (test_x, test_y))"
   ]
  },
  {
   "cell_type": "code",
   "execution_count": null,
   "metadata": {},
   "outputs": [],
   "source": []
  }
 ],
 "metadata": {
  "kernelspec": {
   "display_name": "Python 2",
   "language": "python",
   "name": "python2"
  },
  "language_info": {
   "codemirror_mode": {
    "name": "ipython",
    "version": 2
   },
   "file_extension": ".py",
   "mimetype": "text/x-python",
   "name": "python",
   "nbconvert_exporter": "python",
   "pygments_lexer": "ipython2",
   "version": "2.7.13"
  }
 },
 "nbformat": 4,
 "nbformat_minor": 2
}
