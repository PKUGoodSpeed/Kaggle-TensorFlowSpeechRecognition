{
 "cells": [
  {
   "cell_type": "code",
   "execution_count": 2,
   "metadata": {
    "collapsed": true
   },
   "outputs": [],
   "source": [
    "import numpy as np\n",
    "import pandas as pd\n",
    "from IPython.display import display"
   ]
  },
  {
   "cell_type": "code",
   "execution_count": 8,
   "metadata": {},
   "outputs": [
    {
     "data": {
      "text/html": [
       "<div>\n",
       "<table border=\"1\" class=\"dataframe\">\n",
       "  <thead>\n",
       "    <tr style=\"text-align: right;\">\n",
       "      <th></th>\n",
       "      <th>fname</th>\n",
       "      <th>label</th>\n",
       "      <th>prob</th>\n",
       "    </tr>\n",
       "  </thead>\n",
       "  <tbody>\n",
       "    <tr>\n",
       "      <th>0</th>\n",
       "      <td>clip_000044442.wav</td>\n",
       "      <td>no</td>\n",
       "      <td>0.999692</td>\n",
       "    </tr>\n",
       "    <tr>\n",
       "      <th>1</th>\n",
       "      <td>clip_0000adecb.wav</td>\n",
       "      <td>happy</td>\n",
       "      <td>1.000000</td>\n",
       "    </tr>\n",
       "    <tr>\n",
       "      <th>2</th>\n",
       "      <td>clip_0000d4322.wav</td>\n",
       "      <td>wow</td>\n",
       "      <td>0.471164</td>\n",
       "    </tr>\n",
       "    <tr>\n",
       "      <th>3</th>\n",
       "      <td>clip_0000fb6fe.wav</td>\n",
       "      <td>two</td>\n",
       "      <td>0.389592</td>\n",
       "    </tr>\n",
       "    <tr>\n",
       "      <th>4</th>\n",
       "      <td>clip_0001d1559.wav</td>\n",
       "      <td>tree</td>\n",
       "      <td>0.945606</td>\n",
       "    </tr>\n",
       "    <tr>\n",
       "      <th>5</th>\n",
       "      <td>clip_0002256ed.wav</td>\n",
       "      <td>three</td>\n",
       "      <td>0.995322</td>\n",
       "    </tr>\n",
       "    <tr>\n",
       "      <th>6</th>\n",
       "      <td>clip_0002a4a1f.wav</td>\n",
       "      <td>five</td>\n",
       "      <td>0.997091</td>\n",
       "    </tr>\n",
       "    <tr>\n",
       "      <th>7</th>\n",
       "      <td>clip_0002d9b83.wav</td>\n",
       "      <td>nine</td>\n",
       "      <td>0.999997</td>\n",
       "    </tr>\n",
       "    <tr>\n",
       "      <th>8</th>\n",
       "      <td>clip_000373a5b.wav</td>\n",
       "      <td>go</td>\n",
       "      <td>0.999994</td>\n",
       "    </tr>\n",
       "    <tr>\n",
       "      <th>9</th>\n",
       "      <td>clip_0003c7122.wav</td>\n",
       "      <td>eight</td>\n",
       "      <td>0.611536</td>\n",
       "    </tr>\n",
       "  </tbody>\n",
       "</table>\n",
       "</div>"
      ],
      "text/plain": [
       "                fname  label      prob\n",
       "0  clip_000044442.wav     no  0.999692\n",
       "1  clip_0000adecb.wav  happy  1.000000\n",
       "2  clip_0000d4322.wav    wow  0.471164\n",
       "3  clip_0000fb6fe.wav    two  0.389592\n",
       "4  clip_0001d1559.wav   tree  0.945606\n",
       "5  clip_0002256ed.wav  three  0.995322\n",
       "6  clip_0002a4a1f.wav   five  0.997091\n",
       "7  clip_0002d9b83.wav   nine  0.999997\n",
       "8  clip_000373a5b.wav     go  0.999994\n",
       "9  clip_0003c7122.wav  eight  0.611536"
      ]
     },
     "metadata": {},
     "output_type": "display_data"
    }
   ],
   "source": [
    "df = pd.read_csv('../cnn_output/predict.csv')\n",
    "TAR_LABELS = ['yes', 'no', 'up', 'down', 'left', 'right', 'on', 'off', 'stop', 'go', 'silence', 'unknown']\n",
    "display(df[:10])"
   ]
  },
  {
   "cell_type": "code",
   "execution_count": 5,
   "metadata": {},
   "outputs": [
    {
     "name": "stdout",
     "output_type": "stream",
     "text": [
      "['clip_000044442.wav', 'clip_0000adecb.wav', 'clip_0000d4322.wav', 'clip_0000fb6fe.wav', 'clip_0001d1559.wav', 'clip_0002256ed.wav', 'clip_0002a4a1f.wav', 'clip_0002d9b83.wav', 'clip_000373a5b.wav', 'clip_0003c7122.wav']\n",
      "['no', 'happy', 'wow', 'two', 'tree', 'three', 'five', 'nine', 'go', 'eight']\n",
      "[0.99969232086000015, 1.0, 0.47116380929899998, 0.38959177670400003, 0.94560623168899993, 0.99532216898900006, 0.99709051830100004, 0.99999737739500005, 0.99999380111699998, 0.61153584718699994]\n"
     ]
    }
   ],
   "source": [
    "filenames = df.fname.tolist()\n",
    "pred = df.label.tolist()\n",
    "prob = df.prob.tolist()\n",
    "print filenames[:10]\n",
    "print pred[:10]\n",
    "print prob[:10]"
   ]
  },
  {
   "cell_type": "code",
   "execution_count": 6,
   "metadata": {
    "collapsed": true
   },
   "outputs": [],
   "source": [
    "Hyper_ratio= 0.3"
   ]
  },
  {
   "cell_type": "code",
   "execution_count": 7,
   "metadata": {},
   "outputs": [
    {
     "data": {
      "text/html": [
       "<div>\n",
       "<table border=\"1\" class=\"dataframe\">\n",
       "  <thead>\n",
       "    <tr style=\"text-align: right;\">\n",
       "      <th></th>\n",
       "      <th>label</th>\n",
       "    </tr>\n",
       "    <tr>\n",
       "      <th>fname</th>\n",
       "      <th></th>\n",
       "    </tr>\n",
       "  </thead>\n",
       "  <tbody>\n",
       "    <tr>\n",
       "      <th>clip_000044442.wav</th>\n",
       "      <td>no</td>\n",
       "    </tr>\n",
       "    <tr>\n",
       "      <th>clip_0000adecb.wav</th>\n",
       "      <td>unknown</td>\n",
       "    </tr>\n",
       "    <tr>\n",
       "      <th>clip_0000d4322.wav</th>\n",
       "      <td>unknown</td>\n",
       "    </tr>\n",
       "    <tr>\n",
       "      <th>clip_0000fb6fe.wav</th>\n",
       "      <td>unknown</td>\n",
       "    </tr>\n",
       "    <tr>\n",
       "      <th>clip_0001d1559.wav</th>\n",
       "      <td>unknown</td>\n",
       "    </tr>\n",
       "    <tr>\n",
       "      <th>clip_0002256ed.wav</th>\n",
       "      <td>unknown</td>\n",
       "    </tr>\n",
       "    <tr>\n",
       "      <th>clip_0002a4a1f.wav</th>\n",
       "      <td>unknown</td>\n",
       "    </tr>\n",
       "    <tr>\n",
       "      <th>clip_0002d9b83.wav</th>\n",
       "      <td>unknown</td>\n",
       "    </tr>\n",
       "    <tr>\n",
       "      <th>clip_000373a5b.wav</th>\n",
       "      <td>go</td>\n",
       "    </tr>\n",
       "    <tr>\n",
       "      <th>clip_0003c7122.wav</th>\n",
       "      <td>unknown</td>\n",
       "    </tr>\n",
       "  </tbody>\n",
       "</table>\n",
       "</div>"
      ],
      "text/plain": [
       "                      label\n",
       "fname                      \n",
       "clip_000044442.wav       no\n",
       "clip_0000adecb.wav  unknown\n",
       "clip_0000d4322.wav  unknown\n",
       "clip_0000fb6fe.wav  unknown\n",
       "clip_0001d1559.wav  unknown\n",
       "clip_0002256ed.wav  unknown\n",
       "clip_0002a4a1f.wav  unknown\n",
       "clip_0002d9b83.wav  unknown\n",
       "clip_000373a5b.wav       go\n",
       "clip_0003c7122.wav  unknown"
      ]
     },
     "metadata": {},
     "output_type": "display_data"
    }
   ],
   "source": [
    "dic = {'fname':[], 'label':[]}\n",
    "for i in range(len(filenames)):\n",
    "    if pred[i] not in TAR_LABELS:\n",
    "        pred[i] = 'unknown'\n",
    "    elif prob[i] < Hyper_ratio:\n",
    "        pred[i] = 'unknown'\n",
    "dic['fname'] = filenames\n",
    "dic['label'] = pred\n",
    "df_convert = pd.DataFrame(dic)\n",
    "df_convert.set_index('fname', inplace = True)\n",
    "display(df_convert[:10])"
   ]
  },
  {
   "cell_type": "code",
   "execution_count": 9,
   "metadata": {
    "collapsed": true
   },
   "outputs": [],
   "source": [
    "df_convert.to_csv('../cnn2_output/predict.csv')"
   ]
  },
  {
   "cell_type": "code",
   "execution_count": null,
   "metadata": {
    "collapsed": true
   },
   "outputs": [],
   "source": []
  }
 ],
 "metadata": {
  "kernelspec": {
   "display_name": "Python 2",
   "language": "python",
   "name": "python2"
  },
  "language_info": {
   "codemirror_mode": {
    "name": "ipython",
    "version": 2
   },
   "file_extension": ".py",
   "mimetype": "text/x-python",
   "name": "python",
   "nbconvert_exporter": "python",
   "pygments_lexer": "ipython2",
   "version": "2.7.13"
  }
 },
 "nbformat": 4,
 "nbformat_minor": 2
}
