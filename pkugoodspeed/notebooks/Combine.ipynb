{
 "cells": [
  {
   "cell_type": "code",
   "execution_count": 1,
   "metadata": {
    "collapsed": true
   },
   "outputs": [],
   "source": [
    "import numpy as np\n",
    "import pandas as pd\n",
    "from IPython.display import display"
   ]
  },
  {
   "cell_type": "code",
   "execution_count": 2,
   "metadata": {},
   "outputs": [
    {
     "data": {
      "text/html": [
       "<div>\n",
       "<table border=\"1\" class=\"dataframe\">\n",
       "  <thead>\n",
       "    <tr style=\"text-align: right;\">\n",
       "      <th></th>\n",
       "      <th>fname</th>\n",
       "      <th>label</th>\n",
       "      <th>prob</th>\n",
       "    </tr>\n",
       "  </thead>\n",
       "  <tbody>\n",
       "    <tr>\n",
       "      <th>0</th>\n",
       "      <td>clip_000044442.wav</td>\n",
       "      <td>no</td>\n",
       "      <td>1.000000</td>\n",
       "    </tr>\n",
       "    <tr>\n",
       "      <th>1</th>\n",
       "      <td>clip_0000adecb.wav</td>\n",
       "      <td>unknown</td>\n",
       "      <td>1.000000</td>\n",
       "    </tr>\n",
       "    <tr>\n",
       "      <th>2</th>\n",
       "      <td>clip_0000d4322.wav</td>\n",
       "      <td>unknown</td>\n",
       "      <td>0.991082</td>\n",
       "    </tr>\n",
       "    <tr>\n",
       "      <th>3</th>\n",
       "      <td>clip_0000fb6fe.wav</td>\n",
       "      <td>up</td>\n",
       "      <td>0.297632</td>\n",
       "    </tr>\n",
       "    <tr>\n",
       "      <th>4</th>\n",
       "      <td>clip_0001d1559.wav</td>\n",
       "      <td>unknown</td>\n",
       "      <td>1.000000</td>\n",
       "    </tr>\n",
       "    <tr>\n",
       "      <th>5</th>\n",
       "      <td>clip_0002256ed.wav</td>\n",
       "      <td>unknown</td>\n",
       "      <td>1.000000</td>\n",
       "    </tr>\n",
       "    <tr>\n",
       "      <th>6</th>\n",
       "      <td>clip_0002a4a1f.wav</td>\n",
       "      <td>unknown</td>\n",
       "      <td>0.998950</td>\n",
       "    </tr>\n",
       "    <tr>\n",
       "      <th>7</th>\n",
       "      <td>clip_0002d9b83.wav</td>\n",
       "      <td>unknown</td>\n",
       "      <td>0.999977</td>\n",
       "    </tr>\n",
       "    <tr>\n",
       "      <th>8</th>\n",
       "      <td>clip_000373a5b.wav</td>\n",
       "      <td>go</td>\n",
       "      <td>0.999849</td>\n",
       "    </tr>\n",
       "    <tr>\n",
       "      <th>9</th>\n",
       "      <td>clip_0003c7122.wav</td>\n",
       "      <td>unknown</td>\n",
       "      <td>0.960456</td>\n",
       "    </tr>\n",
       "    <tr>\n",
       "      <th>10</th>\n",
       "      <td>clip_0003e6aee.wav</td>\n",
       "      <td>off</td>\n",
       "      <td>1.000000</td>\n",
       "    </tr>\n",
       "    <tr>\n",
       "      <th>11</th>\n",
       "      <td>clip_00049951d.wav</td>\n",
       "      <td>unknown</td>\n",
       "      <td>1.000000</td>\n",
       "    </tr>\n",
       "    <tr>\n",
       "      <th>12</th>\n",
       "      <td>clip_0004c6707.wav</td>\n",
       "      <td>go</td>\n",
       "      <td>0.176099</td>\n",
       "    </tr>\n",
       "    <tr>\n",
       "      <th>13</th>\n",
       "      <td>clip_0004f8b63.wav</td>\n",
       "      <td>yes</td>\n",
       "      <td>0.999995</td>\n",
       "    </tr>\n",
       "    <tr>\n",
       "      <th>14</th>\n",
       "      <td>clip_00068e281.wav</td>\n",
       "      <td>no</td>\n",
       "      <td>0.999670</td>\n",
       "    </tr>\n",
       "    <tr>\n",
       "      <th>15</th>\n",
       "      <td>clip_00069e9cb.wav</td>\n",
       "      <td>stop</td>\n",
       "      <td>1.000000</td>\n",
       "    </tr>\n",
       "    <tr>\n",
       "      <th>16</th>\n",
       "      <td>clip_0006f7b8b.wav</td>\n",
       "      <td>unknown</td>\n",
       "      <td>0.999912</td>\n",
       "    </tr>\n",
       "  </tbody>\n",
       "</table>\n",
       "</div>"
      ],
      "text/plain": [
       "                 fname    label      prob\n",
       "0   clip_000044442.wav       no  1.000000\n",
       "1   clip_0000adecb.wav  unknown  1.000000\n",
       "2   clip_0000d4322.wav  unknown  0.991082\n",
       "3   clip_0000fb6fe.wav       up  0.297632\n",
       "4   clip_0001d1559.wav  unknown  1.000000\n",
       "5   clip_0002256ed.wav  unknown  1.000000\n",
       "6   clip_0002a4a1f.wav  unknown  0.998950\n",
       "7   clip_0002d9b83.wav  unknown  0.999977\n",
       "8   clip_000373a5b.wav       go  0.999849\n",
       "9   clip_0003c7122.wav  unknown  0.960456\n",
       "10  clip_0003e6aee.wav      off  1.000000\n",
       "11  clip_00049951d.wav  unknown  1.000000\n",
       "12  clip_0004c6707.wav       go  0.176099\n",
       "13  clip_0004f8b63.wav      yes  0.999995\n",
       "14  clip_00068e281.wav       no  0.999670\n",
       "15  clip_00069e9cb.wav     stop  1.000000\n",
       "16  clip_0006f7b8b.wav  unknown  0.999912"
      ]
     },
     "metadata": {},
     "output_type": "display_data"
    }
   ],
   "source": [
    "df1 = pd.read_csv('../cnn2_output/benchmark/bm1.csv')\n",
    "display(df1[:17])"
   ]
  },
  {
   "cell_type": "code",
   "execution_count": 3,
   "metadata": {},
   "outputs": [
    {
     "data": {
      "text/html": [
       "<div>\n",
       "<table border=\"1\" class=\"dataframe\">\n",
       "  <thead>\n",
       "    <tr style=\"text-align: right;\">\n",
       "      <th></th>\n",
       "      <th>fname</th>\n",
       "      <th>label</th>\n",
       "      <th>prob</th>\n",
       "    </tr>\n",
       "  </thead>\n",
       "  <tbody>\n",
       "    <tr>\n",
       "      <th>0</th>\n",
       "      <td>clip_000044442.wav</td>\n",
       "      <td>no</td>\n",
       "      <td>1.000000</td>\n",
       "    </tr>\n",
       "    <tr>\n",
       "      <th>1</th>\n",
       "      <td>clip_0000adecb.wav</td>\n",
       "      <td>unknown</td>\n",
       "      <td>1.000000</td>\n",
       "    </tr>\n",
       "    <tr>\n",
       "      <th>2</th>\n",
       "      <td>clip_0000d4322.wav</td>\n",
       "      <td>unknown</td>\n",
       "      <td>0.997975</td>\n",
       "    </tr>\n",
       "    <tr>\n",
       "      <th>3</th>\n",
       "      <td>clip_0000fb6fe.wav</td>\n",
       "      <td>up</td>\n",
       "      <td>0.657830</td>\n",
       "    </tr>\n",
       "    <tr>\n",
       "      <th>4</th>\n",
       "      <td>clip_0001d1559.wav</td>\n",
       "      <td>unknown</td>\n",
       "      <td>1.000000</td>\n",
       "    </tr>\n",
       "    <tr>\n",
       "      <th>5</th>\n",
       "      <td>clip_0002256ed.wav</td>\n",
       "      <td>unknown</td>\n",
       "      <td>0.999999</td>\n",
       "    </tr>\n",
       "    <tr>\n",
       "      <th>6</th>\n",
       "      <td>clip_0002a4a1f.wav</td>\n",
       "      <td>unknown</td>\n",
       "      <td>0.999985</td>\n",
       "    </tr>\n",
       "    <tr>\n",
       "      <th>7</th>\n",
       "      <td>clip_0002d9b83.wav</td>\n",
       "      <td>unknown</td>\n",
       "      <td>0.999992</td>\n",
       "    </tr>\n",
       "    <tr>\n",
       "      <th>8</th>\n",
       "      <td>clip_000373a5b.wav</td>\n",
       "      <td>go</td>\n",
       "      <td>1.000000</td>\n",
       "    </tr>\n",
       "    <tr>\n",
       "      <th>9</th>\n",
       "      <td>clip_0003c7122.wav</td>\n",
       "      <td>unknown</td>\n",
       "      <td>0.990678</td>\n",
       "    </tr>\n",
       "    <tr>\n",
       "      <th>10</th>\n",
       "      <td>clip_0003e6aee.wav</td>\n",
       "      <td>off</td>\n",
       "      <td>0.999999</td>\n",
       "    </tr>\n",
       "    <tr>\n",
       "      <th>11</th>\n",
       "      <td>clip_00049951d.wav</td>\n",
       "      <td>unknown</td>\n",
       "      <td>1.000000</td>\n",
       "    </tr>\n",
       "    <tr>\n",
       "      <th>12</th>\n",
       "      <td>clip_0004c6707.wav</td>\n",
       "      <td>unknown</td>\n",
       "      <td>0.311637</td>\n",
       "    </tr>\n",
       "    <tr>\n",
       "      <th>13</th>\n",
       "      <td>clip_0004f8b63.wav</td>\n",
       "      <td>yes</td>\n",
       "      <td>0.998617</td>\n",
       "    </tr>\n",
       "    <tr>\n",
       "      <th>14</th>\n",
       "      <td>clip_00068e281.wav</td>\n",
       "      <td>no</td>\n",
       "      <td>0.999992</td>\n",
       "    </tr>\n",
       "    <tr>\n",
       "      <th>15</th>\n",
       "      <td>clip_00069e9cb.wav</td>\n",
       "      <td>stop</td>\n",
       "      <td>1.000000</td>\n",
       "    </tr>\n",
       "    <tr>\n",
       "      <th>16</th>\n",
       "      <td>clip_0006f7b8b.wav</td>\n",
       "      <td>unknown</td>\n",
       "      <td>0.999997</td>\n",
       "    </tr>\n",
       "  </tbody>\n",
       "</table>\n",
       "</div>"
      ],
      "text/plain": [
       "                 fname    label      prob\n",
       "0   clip_000044442.wav       no  1.000000\n",
       "1   clip_0000adecb.wav  unknown  1.000000\n",
       "2   clip_0000d4322.wav  unknown  0.997975\n",
       "3   clip_0000fb6fe.wav       up  0.657830\n",
       "4   clip_0001d1559.wav  unknown  1.000000\n",
       "5   clip_0002256ed.wav  unknown  0.999999\n",
       "6   clip_0002a4a1f.wav  unknown  0.999985\n",
       "7   clip_0002d9b83.wav  unknown  0.999992\n",
       "8   clip_000373a5b.wav       go  1.000000\n",
       "9   clip_0003c7122.wav  unknown  0.990678\n",
       "10  clip_0003e6aee.wav      off  0.999999\n",
       "11  clip_00049951d.wav  unknown  1.000000\n",
       "12  clip_0004c6707.wav  unknown  0.311637\n",
       "13  clip_0004f8b63.wav      yes  0.998617\n",
       "14  clip_00068e281.wav       no  0.999992\n",
       "15  clip_00069e9cb.wav     stop  1.000000\n",
       "16  clip_0006f7b8b.wav  unknown  0.999997"
      ]
     },
     "metadata": {},
     "output_type": "display_data"
    }
   ],
   "source": [
    "df2 = pd.read_csv('../cnn2_output/benchmark/bm2.csv')\n",
    "display(df2[:17])"
   ]
  },
  {
   "cell_type": "code",
   "execution_count": 4,
   "metadata": {},
   "outputs": [
    {
     "data": {
      "text/plain": [
       "0"
      ]
     },
     "execution_count": 4,
     "metadata": {},
     "output_type": "execute_result"
    }
   ],
   "source": [
    "(df1.fname.values != df2.fname.values).sum()"
   ]
  },
  {
   "cell_type": "code",
   "execution_count": 5,
   "metadata": {
    "collapsed": true
   },
   "outputs": [],
   "source": [
    "pred1 = df1.label.tolist()\n",
    "pred2 = df2.label.tolist()\n",
    "prob1 = df1.prob.tolist()\n",
    "prob2 = df2.prob.tolist()"
   ]
  },
  {
   "cell_type": "code",
   "execution_count": 6,
   "metadata": {},
   "outputs": [
    {
     "name": "stdout",
     "output_type": "stream",
     "text": [
      "0\n",
      "30000\n",
      "60000\n",
      "90000\n",
      "120000\n",
      "150000\n"
     ]
    }
   ],
   "source": [
    "new_label = []\n",
    "hyper_ratio = 0.4\n",
    "for i in range(len(df1)):\n",
    "    if i % 30000 == 0:\n",
    "        print i\n",
    "    if pred1[i] == pred2[i]:\n",
    "        new_label.append(pred1[i])\n",
    "    elif prob1[i] >= prob2[i] and prob1[i] > hyper_ratio:\n",
    "        new_label.append(pred1[i])\n",
    "    elif prob2[i] >= prob1[i] and prob2[i] > hyper_ratio:\n",
    "        new_label.append(pred2[i])\n",
    "    else:\n",
    "        new_label.append(\"unknown\")"
   ]
  },
  {
   "cell_type": "code",
   "execution_count": 7,
   "metadata": {},
   "outputs": [
    {
     "data": {
      "text/html": [
       "<div>\n",
       "<table border=\"1\" class=\"dataframe\">\n",
       "  <thead>\n",
       "    <tr style=\"text-align: right;\">\n",
       "      <th></th>\n",
       "      <th>label</th>\n",
       "    </tr>\n",
       "    <tr>\n",
       "      <th>fname</th>\n",
       "      <th></th>\n",
       "    </tr>\n",
       "  </thead>\n",
       "  <tbody>\n",
       "    <tr>\n",
       "      <th>clip_000044442.wav</th>\n",
       "      <td>no</td>\n",
       "    </tr>\n",
       "    <tr>\n",
       "      <th>clip_0000adecb.wav</th>\n",
       "      <td>unknown</td>\n",
       "    </tr>\n",
       "    <tr>\n",
       "      <th>clip_0000d4322.wav</th>\n",
       "      <td>unknown</td>\n",
       "    </tr>\n",
       "    <tr>\n",
       "      <th>clip_0000fb6fe.wav</th>\n",
       "      <td>up</td>\n",
       "    </tr>\n",
       "    <tr>\n",
       "      <th>clip_0001d1559.wav</th>\n",
       "      <td>unknown</td>\n",
       "    </tr>\n",
       "    <tr>\n",
       "      <th>clip_0002256ed.wav</th>\n",
       "      <td>unknown</td>\n",
       "    </tr>\n",
       "    <tr>\n",
       "      <th>clip_0002a4a1f.wav</th>\n",
       "      <td>unknown</td>\n",
       "    </tr>\n",
       "    <tr>\n",
       "      <th>clip_0002d9b83.wav</th>\n",
       "      <td>unknown</td>\n",
       "    </tr>\n",
       "    <tr>\n",
       "      <th>clip_000373a5b.wav</th>\n",
       "      <td>go</td>\n",
       "    </tr>\n",
       "    <tr>\n",
       "      <th>clip_0003c7122.wav</th>\n",
       "      <td>unknown</td>\n",
       "    </tr>\n",
       "  </tbody>\n",
       "</table>\n",
       "</div>"
      ],
      "text/plain": [
       "                      label\n",
       "fname                      \n",
       "clip_000044442.wav       no\n",
       "clip_0000adecb.wav  unknown\n",
       "clip_0000d4322.wav  unknown\n",
       "clip_0000fb6fe.wav       up\n",
       "clip_0001d1559.wav  unknown\n",
       "clip_0002256ed.wav  unknown\n",
       "clip_0002a4a1f.wav  unknown\n",
       "clip_0002d9b83.wav  unknown\n",
       "clip_000373a5b.wav       go\n",
       "clip_0003c7122.wav  unknown"
      ]
     },
     "metadata": {},
     "output_type": "display_data"
    }
   ],
   "source": [
    "dic = {}\n",
    "dic['fname'] = df1.fname.tolist()\n",
    "dic['label'] = new_label\n",
    "df_convert = pd.DataFrame(dic)\n",
    "df_convert.set_index('fname', inplace = True)\n",
    "display(df_convert[:10])"
   ]
  },
  {
   "cell_type": "code",
   "execution_count": 8,
   "metadata": {
    "collapsed": true
   },
   "outputs": [],
   "source": [
    "df_convert.to_csv('../cnn2_output/test.csv')"
   ]
  },
  {
   "cell_type": "code",
   "execution_count": 9,
   "metadata": {},
   "outputs": [
    {
     "data": {
      "text/plain": [
       "9906"
      ]
     },
     "execution_count": 9,
     "metadata": {},
     "output_type": "execute_result"
    }
   ],
   "source": [
    "(df1.label.values != df2.label.values).sum()"
   ]
  },
  {
   "cell_type": "code",
   "execution_count": 11,
   "metadata": {},
   "outputs": [
    {
     "name": "stdout",
     "output_type": "stream",
     "text": [
      "[12, 38, 80, 90, 92, 100, 147, 168, 179, 202]\n"
     ]
    }
   ],
   "source": [
    "diff_files = []\n",
    "for i in range(len(df1)):\n",
    "    if pred1[i] != pred2[i]:\n",
    "        diff_files.append(i)\n",
    "print diff_files[:10]"
   ]
  },
  {
   "cell_type": "code",
   "execution_count": 14,
   "metadata": {},
   "outputs": [
    {
     "data": {
      "text/html": [
       "\n",
       "                <audio controls=\"controls\" >\n",
       "                    <source src=\"data:audio/wav;base64,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\" type=\"audio/wav\" />\n",
       "                    Your browser does not support the audio element.\n",
       "                </audio>\n",
       "              "
      ],
      "text/plain": [
       "<IPython.lib.display.Audio object>"
      ]
     },
     "execution_count": 14,
     "metadata": {},
     "output_type": "execute_result"
    }
   ],
   "source": [
    "test_path = '../data/test/audio/'\n",
    "from scipy.io import wavfile\n",
    "rate, samples = wavfile.read(test_path + '/' + 'clip_0004c6707.wav')\n",
    "import IPython.display as ipd\n",
    "ipd.Audio(samples, rate=rate)"
   ]
  },
  {
   "cell_type": "code",
   "execution_count": null,
   "metadata": {
    "collapsed": true
   },
   "outputs": [],
   "source": [
    "for i in diff_files:\n",
    "    \n",
    "    "
   ]
  }
 ],
 "metadata": {
  "kernelspec": {
   "display_name": "Python 2",
   "language": "python",
   "name": "python2"
  },
  "language_info": {
   "codemirror_mode": {
    "name": "ipython",
    "version": 2
   },
   "file_extension": ".py",
   "mimetype": "text/x-python",
   "name": "python",
   "nbconvert_exporter": "python",
   "pygments_lexer": "ipython2",
   "version": "2.7.13"
  }
 },
 "nbformat": 4,
 "nbformat_minor": 2
}
